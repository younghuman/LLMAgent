{
 "cells": [
  {
   "cell_type": "code",
   "execution_count": 69,
   "id": "b5f0d139",
   "metadata": {},
   "outputs": [
    {
     "name": "stdout",
     "output_type": "stream",
     "text": [
      "Requirement already satisfied: langchain in /home/yh/anaconda3/envs/webshop/lib/python3.8/site-packages (0.0.173)\n",
      "Requirement already satisfied: openai in /home/yh/anaconda3/envs/webshop/lib/python3.8/site-packages (0.27.6)\n",
      "Requirement already satisfied: lark in /home/yh/anaconda3/envs/webshop/lib/python3.8/site-packages (1.1.5)\n",
      "Requirement already satisfied: tiktoken in /home/yh/anaconda3/envs/webshop/lib/python3.8/site-packages (0.4.0)\n",
      "Requirement already satisfied: faiss in /home/yh/anaconda3/envs/webshop/lib/python3.8/site-packages (1.7.4)\n",
      "Requirement already satisfied: numpy in /home/yh/anaconda3/envs/webshop/lib/python3.8/site-packages (1.24.3)\n",
      "Requirement already satisfied: gym==0.25.1 in /home/yh/anaconda3/envs/webshop/lib/python3.8/site-packages (0.25.1)\n",
      "Requirement already satisfied: anthropic in /home/yh/anaconda3/envs/webshop/lib/python3.8/site-packages (0.2.9)\n",
      "Requirement already satisfied: importlib-metadata>=4.8.0 in /home/yh/anaconda3/envs/webshop/lib/python3.8/site-packages (from gym==0.25.1) (6.6.0)\n",
      "Requirement already satisfied: gym-notices>=0.0.4 in /home/yh/anaconda3/envs/webshop/lib/python3.8/site-packages (from gym==0.25.1) (0.0.8)\n",
      "Requirement already satisfied: cloudpickle>=1.2.0 in /home/yh/anaconda3/envs/webshop/lib/python3.8/site-packages (from gym==0.25.1) (2.2.1)\n",
      "Requirement already satisfied: numexpr<3.0.0,>=2.8.4 in /home/yh/anaconda3/envs/webshop/lib/python3.8/site-packages (from langchain) (2.8.4)\n",
      "Requirement already satisfied: async-timeout<5.0.0,>=4.0.0 in /home/yh/anaconda3/envs/webshop/lib/python3.8/site-packages (from langchain) (4.0.2)\n",
      "Requirement already satisfied: aiohttp<4.0.0,>=3.8.3 in /home/yh/anaconda3/envs/webshop/lib/python3.8/site-packages (from langchain) (3.8.4)\n",
      "Requirement already satisfied: requests<3,>=2 in /home/yh/anaconda3/envs/webshop/lib/python3.8/site-packages (from langchain) (2.27.1)\n",
      "Requirement already satisfied: SQLAlchemy<3,>=1.4 in /home/yh/anaconda3/envs/webshop/lib/python3.8/site-packages (from langchain) (2.0.12)\n",
      "Requirement already satisfied: openapi-schema-pydantic<2.0,>=1.2 in /home/yh/anaconda3/envs/webshop/lib/python3.8/site-packages (from langchain) (1.2.4)\n",
      "Requirement already satisfied: pydantic<2,>=1 in /home/yh/anaconda3/envs/webshop/lib/python3.8/site-packages (from langchain) (1.8.2)\n",
      "Requirement already satisfied: dataclasses-json<0.6.0,>=0.5.7 in /home/yh/anaconda3/envs/webshop/lib/python3.8/site-packages (from langchain) (0.5.7)\n",
      "Requirement already satisfied: PyYAML>=5.4.1 in /home/yh/anaconda3/envs/webshop/lib/python3.8/site-packages (from langchain) (6.0)\n",
      "Requirement already satisfied: tenacity<9.0.0,>=8.1.0 in /home/yh/anaconda3/envs/webshop/lib/python3.8/site-packages (from langchain) (8.2.2)\n",
      "Requirement already satisfied: tqdm in /home/yh/anaconda3/envs/webshop/lib/python3.8/site-packages (from openai) (4.64.0)\n",
      "Requirement already satisfied: regex>=2022.1.18 in /home/yh/anaconda3/envs/webshop/lib/python3.8/site-packages (from tiktoken) (2023.3.23)\n",
      "Requirement already satisfied: httpx in /home/yh/anaconda3/envs/webshop/lib/python3.8/site-packages (from anthropic) (0.24.0)\n",
      "Requirement already satisfied: tokenizers in /home/yh/anaconda3/envs/webshop/lib/python3.8/site-packages (from anthropic) (0.12.1)\n",
      "Requirement already satisfied: aiosignal>=1.1.2 in /home/yh/anaconda3/envs/webshop/lib/python3.8/site-packages (from aiohttp<4.0.0,>=3.8.3->langchain) (1.3.1)\n",
      "Requirement already satisfied: yarl<2.0,>=1.0 in /home/yh/anaconda3/envs/webshop/lib/python3.8/site-packages (from aiohttp<4.0.0,>=3.8.3->langchain) (1.9.2)\n",
      "Requirement already satisfied: frozenlist>=1.1.1 in /home/yh/anaconda3/envs/webshop/lib/python3.8/site-packages (from aiohttp<4.0.0,>=3.8.3->langchain) (1.3.3)\n",
      "Requirement already satisfied: attrs>=17.3.0 in /home/yh/anaconda3/envs/webshop/lib/python3.8/site-packages (from aiohttp<4.0.0,>=3.8.3->langchain) (23.1.0)\n",
      "Requirement already satisfied: multidict<7.0,>=4.5 in /home/yh/anaconda3/envs/webshop/lib/python3.8/site-packages (from aiohttp<4.0.0,>=3.8.3->langchain) (6.0.4)\n",
      "Requirement already satisfied: charset-normalizer<4.0,>=2.0 in /home/yh/anaconda3/envs/webshop/lib/python3.8/site-packages (from aiohttp<4.0.0,>=3.8.3->langchain) (2.0.12)\n",
      "Requirement already satisfied: marshmallow-enum<2.0.0,>=1.5.1 in /home/yh/anaconda3/envs/webshop/lib/python3.8/site-packages (from dataclasses-json<0.6.0,>=0.5.7->langchain) (1.5.1)\n",
      "Requirement already satisfied: typing-inspect>=0.4.0 in /home/yh/anaconda3/envs/webshop/lib/python3.8/site-packages (from dataclasses-json<0.6.0,>=0.5.7->langchain) (0.8.0)\n",
      "Requirement already satisfied: marshmallow<4.0.0,>=3.3.0 in /home/yh/anaconda3/envs/webshop/lib/python3.8/site-packages (from dataclasses-json<0.6.0,>=0.5.7->langchain) (3.19.0)\n",
      "Requirement already satisfied: zipp>=0.5 in /home/yh/anaconda3/envs/webshop/lib/python3.8/site-packages (from importlib-metadata>=4.8.0->gym==0.25.1) (3.15.0)\n",
      "Requirement already satisfied: typing-extensions>=3.7.4.3 in /home/yh/anaconda3/envs/webshop/lib/python3.8/site-packages (from pydantic<2,>=1->langchain) (4.5.0)\n",
      "Requirement already satisfied: idna<4,>=2.5 in /home/yh/anaconda3/envs/webshop/lib/python3.8/site-packages (from requests<3,>=2->langchain) (3.4)\n",
      "Requirement already satisfied: certifi>=2017.4.17 in /home/yh/anaconda3/envs/webshop/lib/python3.8/site-packages (from requests<3,>=2->langchain) (2022.12.7)\n",
      "Requirement already satisfied: urllib3<1.27,>=1.21.1 in /home/yh/anaconda3/envs/webshop/lib/python3.8/site-packages (from requests<3,>=2->langchain) (1.26.15)\n",
      "Requirement already satisfied: greenlet!=0.4.17 in /home/yh/anaconda3/envs/webshop/lib/python3.8/site-packages (from SQLAlchemy<3,>=1.4->langchain) (2.0.2)\n",
      "Requirement already satisfied: httpcore<0.18.0,>=0.15.0 in /home/yh/anaconda3/envs/webshop/lib/python3.8/site-packages (from httpx->anthropic) (0.17.0)\n",
      "Requirement already satisfied: sniffio in /home/yh/anaconda3/envs/webshop/lib/python3.8/site-packages (from httpx->anthropic) (1.3.0)\n",
      "Requirement already satisfied: h11<0.15,>=0.13 in /home/yh/anaconda3/envs/webshop/lib/python3.8/site-packages (from httpcore<0.18.0,>=0.15.0->httpx->anthropic) (0.14.0)\n",
      "Requirement already satisfied: anyio<5.0,>=3.0 in /home/yh/anaconda3/envs/webshop/lib/python3.8/site-packages (from httpcore<0.18.0,>=0.15.0->httpx->anthropic) (3.6.2)\n",
      "Requirement already satisfied: packaging>=17.0 in /home/yh/anaconda3/envs/webshop/lib/python3.8/site-packages (from marshmallow<4.0.0,>=3.3.0->dataclasses-json<0.6.0,>=0.5.7->langchain) (23.1)\n",
      "Requirement already satisfied: mypy-extensions>=0.3.0 in /home/yh/anaconda3/envs/webshop/lib/python3.8/site-packages (from typing-inspect>=0.4.0->dataclasses-json<0.6.0,>=0.5.7->langchain) (1.0.0)\n",
      "Requirement already satisfied: replicate in /home/yh/anaconda3/envs/webshop/lib/python3.8/site-packages (0.8.1)\n",
      "Requirement already satisfied: pydantic>1 in /home/yh/anaconda3/envs/webshop/lib/python3.8/site-packages (from replicate) (1.8.2)\n",
      "Requirement already satisfied: packaging in /home/yh/anaconda3/envs/webshop/lib/python3.8/site-packages (from replicate) (23.1)\n",
      "Requirement already satisfied: requests>2 in /home/yh/anaconda3/envs/webshop/lib/python3.8/site-packages (from replicate) (2.27.1)\n",
      "Requirement already satisfied: typing-extensions>=3.7.4.3 in /home/yh/anaconda3/envs/webshop/lib/python3.8/site-packages (from pydantic>1->replicate) (4.5.0)\n",
      "Requirement already satisfied: idna<4,>=2.5 in /home/yh/anaconda3/envs/webshop/lib/python3.8/site-packages (from requests>2->replicate) (3.4)\n",
      "Requirement already satisfied: charset-normalizer~=2.0.0 in /home/yh/anaconda3/envs/webshop/lib/python3.8/site-packages (from requests>2->replicate) (2.0.12)\n",
      "Requirement already satisfied: urllib3<1.27,>=1.21.1 in /home/yh/anaconda3/envs/webshop/lib/python3.8/site-packages (from requests>2->replicate) (1.26.15)\n",
      "Requirement already satisfied: certifi>=2017.4.17 in /home/yh/anaconda3/envs/webshop/lib/python3.8/site-packages (from requests>2->replicate) (2022.12.7)\n"
     ]
    }
   ],
   "source": [
    "#Install a pip package in the current Jupyter kernel\n",
    "import sys\n",
    "!{sys.executable} -m pip install langchain openai lark tiktoken faiss numpy gym==0.25.1 anthropic --upgrade \n",
    "!{sys.executable} -m pip install replicate"
   ]
  },
  {
   "cell_type": "code",
   "execution_count": 70,
   "id": "72398005",
   "metadata": {},
   "outputs": [],
   "source": [
    "import os, json\n",
    "os.environ['JAVA_HOME'] = \"/home/yh/anaconda3/envs/webshop/bin/\"\n",
    "os.environ['JVM_PATH'] = \"/usr/lib/jvm/java-11-openjdk-amd64/lib/server/libjvm.so\"\n",
    "# Open the file and load the JSON data\n",
    "with open(\"./.api_keys.txt\", \"r\") as file:\n",
    "    api_keys = json.load(file)\n",
    "\n",
    "os.environ[\"OPENAI_API_KEY\"] = api_keys[\"OPENAI_API_KEY\"]\n",
    "os.environ['ANTHROPIC_API_KEY'] = api_keys[\"ANTHROPIC_API_KEY\"]\n",
    "os.environ['REPLICATE_API_TOKEN']=api_keys[\"REPLICATE_API_TOKEN\"]"
   ]
  },
  {
   "cell_type": "code",
   "execution_count": 71,
   "id": "1e4cac2e",
   "metadata": {},
   "outputs": [],
   "source": [
    "from vicuna_llm import VicunaLLM"
   ]
  },
  {
   "cell_type": "code",
   "execution_count": 72,
   "id": "3101b5cb",
   "metadata": {},
   "outputs": [
    {
     "data": {
      "text/plain": [
       "\"I'm25 years young.\""
      ]
     },
     "execution_count": 72,
     "metadata": {},
     "output_type": "execute_result"
    }
   ],
   "source": [
    "llm_vicuna = VicunaLLM(model_id=\"replicate/vicuna-13b:a68b84083b703ab3d5fbf31b6e25f16be2988e4c3e21fe79c2ff1c18b99e61c1\")\n",
    "llm_vicuna.predict(\"how old are you?\")"
   ]
  },
  {
   "cell_type": "code",
   "execution_count": null,
   "id": "338920b3",
   "metadata": {},
   "outputs": [],
   "source": []
  }
 ],
 "metadata": {
  "kernelspec": {
   "display_name": "Python 3.8 webshop",
   "language": "python",
   "name": "webshop_python3_8"
  },
  "language_info": {
   "codemirror_mode": {
    "name": "ipython",
    "version": 3
   },
   "file_extension": ".py",
   "mimetype": "text/x-python",
   "name": "python",
   "nbconvert_exporter": "python",
   "pygments_lexer": "ipython3",
   "version": "3.8.13"
  }
 },
 "nbformat": 4,
 "nbformat_minor": 5
}
