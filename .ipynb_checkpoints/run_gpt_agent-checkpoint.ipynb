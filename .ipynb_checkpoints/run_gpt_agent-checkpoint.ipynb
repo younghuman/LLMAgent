{
 "cells": [
  {
   "cell_type": "code",
   "execution_count": 2,
   "id": "a34a139d",
   "metadata": {},
   "outputs": [
    {
     "ename": "ModuleNotFoundError",
     "evalue": "No module named 'train_rl'",
     "output_type": "error",
     "traceback": [
      "\u001b[0;31m---------------------------------------------------------------------------\u001b[0m",
      "\u001b[0;31mModuleNotFoundError\u001b[0m                       Traceback (most recent call last)",
      "Cell \u001b[0;32mIn[2], line 1\u001b[0m\n\u001b[0;32m----> 1\u001b[0m \u001b[38;5;28;01mfrom\u001b[39;00m \u001b[38;5;21;01mtrain_rl\u001b[39;00m \u001b[38;5;28;01mimport\u001b[39;00m parse_args \u001b[38;5;28;01mas\u001b[39;00m webenv_args\n\u001b[1;32m      2\u001b[0m \u001b[38;5;28;01mimport\u001b[39;00m \u001b[38;5;21;01mimp\u001b[39;00m\n\u001b[1;32m      3\u001b[0m \u001b[38;5;28;01mfrom\u001b[39;00m \u001b[38;5;21;01menv\u001b[39;00m \u001b[38;5;28;01mimport\u001b[39;00m WebEnv \n",
      "\u001b[0;31mModuleNotFoundError\u001b[0m: No module named 'train_rl'"
     ]
    }
   ],
   "source": [
    "import os\n",
    "\n",
    "# Change to a directory\n",
    "os.chdir('webshop/baseline_models')\n",
    "\n",
    "\n",
    "from train_rl import parse_args as webenv_args\n",
    "import imp\n",
    "from env import WebEnv \n",
    "\n",
    "\n",
    "args = webenv_args()[0]\n",
    "env = env.WebEnv(args, split='test')\n",
    "print('env loaded')"
   ]
  },
  {
   "cell_type": "code",
   "execution_count": null,
   "id": "c1f8eeb2",
   "metadata": {},
   "outputs": [],
   "source": [
    "import sys\n",
    "print(sys.version)"
   ]
  },
  {
   "cell_type": "code",
   "execution_count": null,
   "id": "b3102a5c",
   "metadata": {},
   "outputs": [],
   "source": []
  }
 ],
 "metadata": {
  "kernelspec": {
   "display_name": "Python 3.8 webshop",
   "language": "python",
   "name": "webshop_python3_8"
  },
  "language_info": {
   "codemirror_mode": {
    "name": "ipython",
    "version": 3
   },
   "file_extension": ".py",
   "mimetype": "text/x-python",
   "name": "python",
   "nbconvert_exporter": "python",
   "pygments_lexer": "ipython3",
   "version": "3.8.13"
  }
 },
 "nbformat": 4,
 "nbformat_minor": 5
}
