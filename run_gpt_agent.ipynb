{
 "cells": [
  {
   "cell_type": "code",
   "execution_count": 1,
   "id": "eea4a9a0",
   "metadata": {},
   "outputs": [],
   "source": [
    "import os\n",
    "os.environ['JAVA_HOME'] = \"/home/yh/anaconda3/envs/webshop/bin/\"\n",
    "os.environ['JVM_PATH'] = \"/usr/lib/jvm/java-11-openjdk-amd64/lib/server/libjvm.so\""
   ]
  },
  {
   "cell_type": "code",
   "execution_count": 3,
   "id": "a34a139d",
   "metadata": {},
   "outputs": [
    {
     "data": {
      "text/html": [
       "<pre style=\"white-space:pre;overflow-x:auto;line-height:normal;font-family:Menlo,'DejaVu Sans Mono',consolas,'Courier New',monospace\">Products loaded.\n",
       "</pre>\n"
      ],
      "text/plain": [
       "Products loaded.\n"
      ]
     },
     "metadata": {},
     "output_type": "display_data"
    },
    {
     "data": {
      "text/html": [
       "<pre style=\"white-space:pre;overflow-x:auto;line-height:normal;font-family:Menlo,'DejaVu Sans Mono',consolas,'Courier New',monospace\">Keys cleaned.\n",
       "</pre>\n"
      ],
      "text/plain": [
       "Keys cleaned.\n"
      ]
     },
     "metadata": {},
     "output_type": "display_data"
    },
    {
     "data": {
      "text/html": [
       "<pre style=\"white-space:pre;overflow-x:auto;line-height:normal;font-family:Menlo,'DejaVu Sans Mono',consolas,'Courier New',monospace\">Attributes loaded.\n",
       "</pre>\n"
      ],
      "text/plain": [
       "Attributes loaded.\n"
      ]
     },
     "metadata": {},
     "output_type": "display_data"
    },
    {
     "name": "stderr",
     "output_type": "stream",
     "text": [
      "100%|████████████████████████████████████████████████████████████████| 1181436/1181436 [00:14<00:00, 83535.80it/s]\n"
     ]
    },
    {
     "data": {
      "text/html": [
       "<pre style=\"white-space:pre;overflow-x:auto;line-height:normal;font-family:Menlo,'DejaVu Sans Mono',consolas,'Courier New',monospace\"><span style=\"color: #008080; text-decoration-color: #008080; font-weight: bold\">164</span> skipped\n",
       "</pre>\n"
      ],
      "text/plain": [
       "\u001b[1;36m164\u001b[0m skipped\n"
      ]
     },
     "metadata": {},
     "output_type": "display_data"
    },
    {
     "name": "stdout",
     "output_type": "stream",
     "text": [
      "Loaded 12087 goals.\n",
      "range(0, 500)\n"
     ]
    },
    {
     "name": "stderr",
     "output_type": "stream",
     "text": [
      "/home/yh/anaconda3/envs/webshop/lib/python3.8/site-packages/flask/testing.py:71: DeprecationWarning: 'werkzeug.urls.url_parse' is deprecated and will be removed in Werkzeug 2.4. Use 'urllib.parse.urlsplit' instead.\n",
      "  url = url_parse(path)\n",
      "/home/yh/anaconda3/envs/webshop/lib/python3.8/site-packages/bs4/element.py:784: DeprecationWarning: The 'text' argument to find()-type methods is deprecated. Use 'string' instead.\n",
      "  warnings.warn(\n"
     ]
    },
    {
     "name": "stdout",
     "output_type": "stream",
     "text": [
      "env loaded\n"
     ]
    }
   ],
   "source": [
    "import os\n",
    "\n",
    "# Change to a directory\n",
    "os.chdir('/home/yh/LLMAgent/webshop/baseline_models')\n",
    "\n",
    "\n",
    "from train_rl import parse_args as webenv_args\n",
    "import imp\n",
    "from env import WebEnv \n",
    "\n",
    "\n",
    "args = webenv_args()[0]\n",
    "env = WebEnv(args, split='test')\n",
    "print('env loaded')"
   ]
  },
  {
   "cell_type": "code",
   "execution_count": null,
   "id": "c1f8eeb2",
   "metadata": {},
   "outputs": [],
   "source": []
  },
  {
   "cell_type": "code",
   "execution_count": null,
   "id": "b3102a5c",
   "metadata": {},
   "outputs": [],
   "source": []
  }
 ],
 "metadata": {
  "kernelspec": {
   "display_name": "Python 3.8 webshop",
   "language": "python",
   "name": "webshop_python3_8"
  },
  "language_info": {
   "codemirror_mode": {
    "name": "ipython",
    "version": 3
   },
   "file_extension": ".py",
   "mimetype": "text/x-python",
   "name": "python",
   "nbconvert_exporter": "python",
   "pygments_lexer": "ipython3",
   "version": "3.8.13"
  }
 },
 "nbformat": 4,
 "nbformat_minor": 5
}
