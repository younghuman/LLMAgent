{
 "cells": [
  {
   "cell_type": "code",
   "execution_count": 13,
   "id": "eea4a9a0",
   "metadata": {},
   "outputs": [
    {
     "ename": "KeyError",
     "evalue": "'JVM_PATH'",
     "output_type": "error",
     "traceback": [
      "\u001b[0;31m---------------------------------------------------------------------------\u001b[0m",
      "\u001b[0;31mKeyError\u001b[0m                                  Traceback (most recent call last)",
      "Cell \u001b[0;32mIn[13], line 3\u001b[0m\n\u001b[1;32m      1\u001b[0m \u001b[38;5;28;01mimport\u001b[39;00m \u001b[38;5;21;01mos\u001b[39;00m\n\u001b[1;32m      2\u001b[0m os\u001b[38;5;241m.\u001b[39menviron[\u001b[38;5;124m'\u001b[39m\u001b[38;5;124mJAVA_HOME\u001b[39m\u001b[38;5;124m'\u001b[39m] \u001b[38;5;241m=\u001b[39m \u001b[38;5;124m\"\u001b[39m\u001b[38;5;124m/home/yh/anaconda3/envs/webshop/bin/\u001b[39m\u001b[38;5;124m\"\u001b[39m\n\u001b[0;32m----> 3\u001b[0m \u001b[38;5;28mprint\u001b[39m(\u001b[43mos\u001b[49m\u001b[38;5;241;43m.\u001b[39;49m\u001b[43menviron\u001b[49m\u001b[43m[\u001b[49m\u001b[38;5;124;43m'\u001b[39;49m\u001b[38;5;124;43mJVM_PATH\u001b[39;49m\u001b[38;5;124;43m'\u001b[39;49m\u001b[43m]\u001b[49m)\n",
      "File \u001b[0;32m~/anaconda3/envs/webshop/lib/python3.8/os.py:675\u001b[0m, in \u001b[0;36m_Environ.__getitem__\u001b[0;34m(self, key)\u001b[0m\n\u001b[1;32m    672\u001b[0m     value \u001b[38;5;241m=\u001b[39m \u001b[38;5;28mself\u001b[39m\u001b[38;5;241m.\u001b[39m_data[\u001b[38;5;28mself\u001b[39m\u001b[38;5;241m.\u001b[39mencodekey(key)]\n\u001b[1;32m    673\u001b[0m \u001b[38;5;28;01mexcept\u001b[39;00m \u001b[38;5;167;01mKeyError\u001b[39;00m:\n\u001b[1;32m    674\u001b[0m     \u001b[38;5;66;03m# raise KeyError with the original key value\u001b[39;00m\n\u001b[0;32m--> 675\u001b[0m     \u001b[38;5;28;01mraise\u001b[39;00m \u001b[38;5;167;01mKeyError\u001b[39;00m(key) \u001b[38;5;28;01mfrom\u001b[39;00m \u001b[38;5;28mNone\u001b[39m\n\u001b[1;32m    676\u001b[0m \u001b[38;5;28;01mreturn\u001b[39;00m \u001b[38;5;28mself\u001b[39m\u001b[38;5;241m.\u001b[39mdecodevalue(value)\n",
      "\u001b[0;31mKeyError\u001b[0m: 'JVM_PATH'"
     ]
    }
   ],
   "source": [
    "import os\n",
    "os.environ['JAVA_HOME'] = \"/home/yh/anaconda3/envs/webshop/bin/\"\n",
    "print(os.environ['JVM_PATH'])"
   ]
  },
  {
   "cell_type": "code",
   "execution_count": 11,
   "id": "a34a139d",
   "metadata": {},
   "outputs": [
    {
     "ename": "RuntimeError",
     "evalue": "\n        Unable to find libjvm.so, (tried ['/home/yh/anaconda3/envs/webshop/bin/lib/server/libjvm.so', '/home/yh/anaconda3/envs/webshop/bin/jre/lib/amd64/default/libjvm.so', '/home/yh/anaconda3/envs/webshop/bin/jre/lib/amd64/server/libjvm.so'])\n        you can use the JVM_PATH env variable with the absolute path\n        to libjvm.so to override this lookup, if you know\n        where pyjnius should look for it.\n\n        e.g:\n            export JAVA_HOME=/usr/lib/jvm/java-8-oracle/\n            export JVM_PATH=/usr/lib/jvm/java-8-oracle/jre/lib/amd64/server/libjvm.so\n            # run your program\n        ",
     "output_type": "error",
     "traceback": [
      "\u001b[0;31m---------------------------------------------------------------------------\u001b[0m",
      "\u001b[0;31mRuntimeError\u001b[0m                              Traceback (most recent call last)",
      "Cell \u001b[0;32mIn[11], line 7\u001b[0m\n\u001b[1;32m      3\u001b[0m \u001b[38;5;66;03m# Change to a directory\u001b[39;00m\n\u001b[1;32m      4\u001b[0m os\u001b[38;5;241m.\u001b[39mchdir(\u001b[38;5;124m'\u001b[39m\u001b[38;5;124m/home/yh/LLMAgent/webshop/baseline_models\u001b[39m\u001b[38;5;124m'\u001b[39m)\n\u001b[0;32m----> 7\u001b[0m \u001b[38;5;28;01mfrom\u001b[39;00m \u001b[38;5;21;01mtrain_rl\u001b[39;00m \u001b[38;5;28;01mimport\u001b[39;00m parse_args \u001b[38;5;28;01mas\u001b[39;00m webenv_args\n\u001b[1;32m      8\u001b[0m \u001b[38;5;28;01mimport\u001b[39;00m \u001b[38;5;21;01mimp\u001b[39;00m\n\u001b[1;32m      9\u001b[0m \u001b[38;5;28;01mfrom\u001b[39;00m \u001b[38;5;21;01menv\u001b[39;00m \u001b[38;5;28;01mimport\u001b[39;00m WebEnv \n",
      "File \u001b[0;32m~/LLMAgent/webshop/baseline_models/train_rl.py:9\u001b[0m\n\u001b[1;32m      7\u001b[0m \u001b[38;5;28;01mimport\u001b[39;00m \u001b[38;5;21;01mlogger\u001b[39;00m\n\u001b[1;32m      8\u001b[0m \u001b[38;5;28;01mfrom\u001b[39;00m \u001b[38;5;21;01magent\u001b[39;00m \u001b[38;5;28;01mimport\u001b[39;00m Agent, TransitionPG\n\u001b[0;32m----> 9\u001b[0m \u001b[38;5;28;01mfrom\u001b[39;00m \u001b[38;5;21;01menv\u001b[39;00m \u001b[38;5;28;01mimport\u001b[39;00m WebEnv\n\u001b[1;32m     11\u001b[0m logging\u001b[38;5;241m.\u001b[39mgetLogger()\u001b[38;5;241m.\u001b[39msetLevel(logging\u001b[38;5;241m.\u001b[39mCRITICAL)\n\u001b[1;32m     14\u001b[0m \u001b[38;5;28;01mdef\u001b[39;00m \u001b[38;5;21mconfigure_logger\u001b[39m(log_dir, wandb):\n",
      "File \u001b[0;32m~/LLMAgent/webshop/baseline_models/env.py:12\u001b[0m\n\u001b[1;32m      9\u001b[0m SITE_PATH \u001b[38;5;241m=\u001b[39m join(MODEL_PATH, \u001b[38;5;124m'\u001b[39m\u001b[38;5;124m../\u001b[39m\u001b[38;5;124m'\u001b[39m)\n\u001b[1;32m     10\u001b[0m sys\u001b[38;5;241m.\u001b[39mpath\u001b[38;5;241m.\u001b[39minsert(\u001b[38;5;241m0\u001b[39m, SITE_PATH)\n\u001b[0;32m---> 12\u001b[0m \u001b[38;5;28;01mfrom\u001b[39;00m \u001b[38;5;21;01mweb_agent_site\u001b[39;00m\u001b[38;5;21;01m.\u001b[39;00m\u001b[38;5;21;01menvs\u001b[39;00m \u001b[38;5;28;01mimport\u001b[39;00m WebAgentTextEnv\n\u001b[1;32m     13\u001b[0m \u001b[38;5;28;01mfrom\u001b[39;00m \u001b[38;5;21;01mweb_agent_site\u001b[39;00m\u001b[38;5;21;01m.\u001b[39;00m\u001b[38;5;21;01mutils\u001b[39;00m \u001b[38;5;28;01mimport\u001b[39;00m \u001b[38;5;241m*\u001b[39m\n\u001b[1;32m     14\u001b[0m \u001b[38;5;28;01mfrom\u001b[39;00m \u001b[38;5;21;01mweb_agent_site\u001b[39;00m\u001b[38;5;21;01m.\u001b[39;00m\u001b[38;5;21;01mengine\u001b[39;00m\u001b[38;5;21;01m.\u001b[39;00m\u001b[38;5;21;01mgoal\u001b[39;00m \u001b[38;5;28;01mimport\u001b[39;00m get_reward\n",
      "File \u001b[0;32m~/LLMAgent/webshop/baseline_models/../web_agent_site/envs/__init__.py:3\u001b[0m\n\u001b[1;32m      1\u001b[0m \u001b[38;5;28;01mfrom\u001b[39;00m \u001b[38;5;21;01mgym\u001b[39;00m\u001b[38;5;21;01m.\u001b[39;00m\u001b[38;5;21;01menvs\u001b[39;00m\u001b[38;5;21;01m.\u001b[39;00m\u001b[38;5;21;01mregistration\u001b[39;00m \u001b[38;5;28;01mimport\u001b[39;00m register\n\u001b[0;32m----> 3\u001b[0m \u001b[38;5;28;01mfrom\u001b[39;00m \u001b[38;5;21;01mweb_agent_site\u001b[39;00m\u001b[38;5;21;01m.\u001b[39;00m\u001b[38;5;21;01menvs\u001b[39;00m\u001b[38;5;21;01m.\u001b[39;00m\u001b[38;5;21;01mweb_agent_site_env\u001b[39;00m \u001b[38;5;28;01mimport\u001b[39;00m WebAgentSiteEnv\n\u001b[1;32m      4\u001b[0m \u001b[38;5;28;01mfrom\u001b[39;00m \u001b[38;5;21;01mweb_agent_site\u001b[39;00m\u001b[38;5;21;01m.\u001b[39;00m\u001b[38;5;21;01menvs\u001b[39;00m\u001b[38;5;21;01m.\u001b[39;00m\u001b[38;5;21;01mweb_agent_text_env\u001b[39;00m \u001b[38;5;28;01mimport\u001b[39;00m WebAgentTextEnv\n\u001b[1;32m      6\u001b[0m register(\n\u001b[1;32m      7\u001b[0m   \u001b[38;5;28mid\u001b[39m\u001b[38;5;241m=\u001b[39m\u001b[38;5;124m'\u001b[39m\u001b[38;5;124mWebAgentSiteEnv-v0\u001b[39m\u001b[38;5;124m'\u001b[39m,\n\u001b[1;32m      8\u001b[0m   entry_point\u001b[38;5;241m=\u001b[39m\u001b[38;5;124m'\u001b[39m\u001b[38;5;124mweb_agent_site.envs:WebAgentSiteEnv\u001b[39m\u001b[38;5;124m'\u001b[39m,\n\u001b[1;32m      9\u001b[0m )\n",
      "File \u001b[0;32m~/LLMAgent/webshop/baseline_models/../web_agent_site/envs/web_agent_site_env.py:16\u001b[0m\n\u001b[1;32m     14\u001b[0m \u001b[38;5;28;01mfrom\u001b[39;00m \u001b[38;5;21;01mselenium\u001b[39;00m\u001b[38;5;21;01m.\u001b[39;00m\u001b[38;5;21;01mwebdriver\u001b[39;00m\u001b[38;5;21;01m.\u001b[39;00m\u001b[38;5;21;01mcommon\u001b[39;00m\u001b[38;5;21;01m.\u001b[39;00m\u001b[38;5;21;01mkeys\u001b[39;00m \u001b[38;5;28;01mimport\u001b[39;00m Keys\n\u001b[1;32m     15\u001b[0m \u001b[38;5;28;01mfrom\u001b[39;00m \u001b[38;5;21;01mselenium\u001b[39;00m\u001b[38;5;21;01m.\u001b[39;00m\u001b[38;5;21;01mcommon\u001b[39;00m\u001b[38;5;21;01m.\u001b[39;00m\u001b[38;5;21;01mexceptions\u001b[39;00m \u001b[38;5;28;01mimport\u001b[39;00m ElementNotInteractableException\n\u001b[0;32m---> 16\u001b[0m \u001b[38;5;28;01mfrom\u001b[39;00m \u001b[38;5;21;01mweb_agent_site\u001b[39;00m\u001b[38;5;21;01m.\u001b[39;00m\u001b[38;5;21;01mengine\u001b[39;00m\u001b[38;5;21;01m.\u001b[39;00m\u001b[38;5;21;01mengine\u001b[39;00m \u001b[38;5;28;01mimport\u001b[39;00m parse_action, END_BUTTON\n\u001b[1;32m     18\u001b[0m \u001b[38;5;28;01mclass\u001b[39;00m \u001b[38;5;21;01mWebAgentSiteEnv\u001b[39;00m(gym\u001b[38;5;241m.\u001b[39mEnv):\n\u001b[1;32m     19\u001b[0m     \u001b[38;5;124;03m\"\"\"Gym environment for HTML mode of WebShop environment\"\"\"\u001b[39;00m\n",
      "File \u001b[0;32m~/LLMAgent/webshop/baseline_models/../web_agent_site/engine/engine.py:16\u001b[0m\n\u001b[1;32m     14\u001b[0m \u001b[38;5;28;01mfrom\u001b[39;00m \u001b[38;5;21;01mflask\u001b[39;00m \u001b[38;5;28;01mimport\u001b[39;00m render_template_string\n\u001b[1;32m     15\u001b[0m \u001b[38;5;28;01mfrom\u001b[39;00m \u001b[38;5;21;01mrich\u001b[39;00m \u001b[38;5;28;01mimport\u001b[39;00m \u001b[38;5;28mprint\u001b[39m\n\u001b[0;32m---> 16\u001b[0m \u001b[38;5;28;01mfrom\u001b[39;00m \u001b[38;5;21;01mpyserini\u001b[39;00m\u001b[38;5;21;01m.\u001b[39;00m\u001b[38;5;21;01msearch\u001b[39;00m\u001b[38;5;21;01m.\u001b[39;00m\u001b[38;5;21;01mlucene\u001b[39;00m \u001b[38;5;28;01mimport\u001b[39;00m LuceneSearcher\n\u001b[1;32m     18\u001b[0m \u001b[38;5;28;01mfrom\u001b[39;00m \u001b[38;5;21;01mweb_agent_site\u001b[39;00m\u001b[38;5;21;01m.\u001b[39;00m\u001b[38;5;21;01mutils\u001b[39;00m \u001b[38;5;28;01mimport\u001b[39;00m (\n\u001b[1;32m     19\u001b[0m     BASE_DIR,\n\u001b[1;32m     20\u001b[0m     DEFAULT_FILE_PATH,\n\u001b[0;32m   (...)\u001b[0m\n\u001b[1;32m     23\u001b[0m     HUMAN_ATTR_PATH\n\u001b[1;32m     24\u001b[0m )\n\u001b[1;32m     26\u001b[0m TEMPLATE_DIR \u001b[38;5;241m=\u001b[39m os\u001b[38;5;241m.\u001b[39mpath\u001b[38;5;241m.\u001b[39mjoin(BASE_DIR, \u001b[38;5;124m'\u001b[39m\u001b[38;5;124mtemplates\u001b[39m\u001b[38;5;124m'\u001b[39m)\n",
      "File \u001b[0;32m~/anaconda3/envs/webshop/lib/python3.8/site-packages/pyserini/search/__init__.py:17\u001b[0m\n\u001b[1;32m      1\u001b[0m \u001b[38;5;66;03m#\u001b[39;00m\n\u001b[1;32m      2\u001b[0m \u001b[38;5;66;03m# Pyserini: Reproducible IR research with sparse and dense representations\u001b[39;00m\n\u001b[1;32m      3\u001b[0m \u001b[38;5;66;03m#\u001b[39;00m\n\u001b[0;32m   (...)\u001b[0m\n\u001b[1;32m     14\u001b[0m \u001b[38;5;66;03m# limitations under the License.\u001b[39;00m\n\u001b[1;32m     15\u001b[0m \u001b[38;5;66;03m#\u001b[39;00m\n\u001b[0;32m---> 17\u001b[0m \u001b[38;5;28;01mfrom\u001b[39;00m \u001b[38;5;21;01m.\u001b[39;00m\u001b[38;5;21;01m_base\u001b[39;00m \u001b[38;5;28;01mimport\u001b[39;00m JQuery, JQueryGenerator, JDisjunctionMaxQueryGenerator, get_topics,\\\n\u001b[1;32m     18\u001b[0m     get_topics_with_reader, get_qrels_file, get_qrels\n\u001b[1;32m     19\u001b[0m \u001b[38;5;28;01mfrom\u001b[39;00m \u001b[38;5;21;01m.\u001b[39;00m\u001b[38;5;21;01mlucene\u001b[39;00m \u001b[38;5;28;01mimport\u001b[39;00m JLuceneSearcherResult, LuceneSimilarities, LuceneFusionSearcher, LuceneSearcher\n\u001b[1;32m     20\u001b[0m \u001b[38;5;28;01mfrom\u001b[39;00m \u001b[38;5;21;01m.\u001b[39;00m\u001b[38;5;21;01mlucene\u001b[39;00m \u001b[38;5;28;01mimport\u001b[39;00m JImpactSearcherResult, LuceneImpactSearcher\n",
      "File \u001b[0;32m~/anaconda3/envs/webshop/lib/python3.8/site-packages/pyserini/search/_base.py:26\u001b[0m\n\u001b[1;32m     23\u001b[0m \u001b[38;5;28;01mimport\u001b[39;00m \u001b[38;5;21;01mos\u001b[39;00m\n\u001b[1;32m     25\u001b[0m \u001b[38;5;28;01mfrom\u001b[39;00m \u001b[38;5;21;01mpyserini\u001b[39;00m\u001b[38;5;21;01m.\u001b[39;00m\u001b[38;5;21;01mutil\u001b[39;00m \u001b[38;5;28;01mimport\u001b[39;00m get_cache_home\n\u001b[0;32m---> 26\u001b[0m \u001b[38;5;28;01mfrom\u001b[39;00m \u001b[38;5;21;01mpyserini\u001b[39;00m\u001b[38;5;21;01m.\u001b[39;00m\u001b[38;5;21;01mpyclass\u001b[39;00m \u001b[38;5;28;01mimport\u001b[39;00m autoclass\n\u001b[1;32m     28\u001b[0m logger \u001b[38;5;241m=\u001b[39m logging\u001b[38;5;241m.\u001b[39mgetLogger(\u001b[38;5;18m__name__\u001b[39m)\n\u001b[1;32m     30\u001b[0m \u001b[38;5;66;03m# Wrappers around Lucene classes\u001b[39;00m\n",
      "File \u001b[0;32m~/anaconda3/envs/webshop/lib/python3.8/site-packages/pyserini/pyclass.py:27\u001b[0m\n\u001b[1;32m     23\u001b[0m \u001b[38;5;66;03m# If the environment variable isn't defined, look in the current directory.\u001b[39;00m\n\u001b[1;32m     24\u001b[0m configure_classpath(os\u001b[38;5;241m.\u001b[39menviron[\u001b[38;5;124m'\u001b[39m\u001b[38;5;124mANSERINI_CLASSPATH\u001b[39m\u001b[38;5;124m'\u001b[39m] \u001b[38;5;28;01mif\u001b[39;00m \u001b[38;5;124m'\u001b[39m\u001b[38;5;124mANSERINI_CLASSPATH\u001b[39m\u001b[38;5;124m'\u001b[39m \u001b[38;5;129;01min\u001b[39;00m os\u001b[38;5;241m.\u001b[39menviron \u001b[38;5;28;01melse\u001b[39;00m\n\u001b[1;32m     25\u001b[0m                     os\u001b[38;5;241m.\u001b[39mpath\u001b[38;5;241m.\u001b[39mjoin(os\u001b[38;5;241m.\u001b[39mpath\u001b[38;5;241m.\u001b[39msplit(\u001b[38;5;18m__file__\u001b[39m)[\u001b[38;5;241m0\u001b[39m], \u001b[38;5;124m'\u001b[39m\u001b[38;5;124mresources/jars/\u001b[39m\u001b[38;5;124m'\u001b[39m))\n\u001b[0;32m---> 27\u001b[0m \u001b[38;5;28;01mfrom\u001b[39;00m \u001b[38;5;21;01mjnius\u001b[39;00m \u001b[38;5;28;01mimport\u001b[39;00m autoclass, cast\n\u001b[1;32m     29\u001b[0m \u001b[38;5;66;03m# Base Java classes\u001b[39;00m\n\u001b[1;32m     30\u001b[0m JString \u001b[38;5;241m=\u001b[39m autoclass(\u001b[38;5;124m'\u001b[39m\u001b[38;5;124mjava.lang.String\u001b[39m\u001b[38;5;124m'\u001b[39m)\n",
      "File \u001b[0;32m~/anaconda3/envs/webshop/lib/python3.8/site-packages/jnius/__init__.py:45\u001b[0m\n\u001b[1;32m     43\u001b[0m \u001b[38;5;28;01melse\u001b[39;00m:\n\u001b[1;32m     44\u001b[0m     \u001b[38;5;28;01mfrom\u001b[39;00m \u001b[38;5;21;01m.\u001b[39;00m\u001b[38;5;21;01mjnius\u001b[39;00m \u001b[38;5;28;01mimport\u001b[39;00m \u001b[38;5;241m*\u001b[39m  \u001b[38;5;66;03m# noqa\u001b[39;00m\n\u001b[0;32m---> 45\u001b[0m     \u001b[38;5;28;01mfrom\u001b[39;00m \u001b[38;5;21;01m.\u001b[39;00m\u001b[38;5;21;01mreflect\u001b[39;00m \u001b[38;5;28;01mimport\u001b[39;00m \u001b[38;5;241m*\u001b[39m  \u001b[38;5;66;03m# noqa\u001b[39;00m\n\u001b[1;32m     47\u001b[0m \u001b[38;5;28;01mfrom\u001b[39;00m \u001b[38;5;21;01msix\u001b[39;00m \u001b[38;5;28;01mimport\u001b[39;00m with_metaclass\n\u001b[1;32m     49\u001b[0m \u001b[38;5;66;03m# XXX monkey patch methods that cannot be in cython.\u001b[39;00m\n\u001b[1;32m     50\u001b[0m \u001b[38;5;66;03m# Cython doesn't allow to set new attribute on methods it compiled\u001b[39;00m\n",
      "File \u001b[0;32m~/anaconda3/envs/webshop/lib/python3.8/site-packages/jnius/reflect.py:20\u001b[0m\n\u001b[1;32m     15\u001b[0m __all__ \u001b[38;5;241m=\u001b[39m (\u001b[38;5;124m'\u001b[39m\u001b[38;5;124mautoclass\u001b[39m\u001b[38;5;124m'\u001b[39m, \u001b[38;5;124m'\u001b[39m\u001b[38;5;124mensureclass\u001b[39m\u001b[38;5;124m'\u001b[39m, \u001b[38;5;124m'\u001b[39m\u001b[38;5;124mprotocol_map\u001b[39m\u001b[38;5;124m'\u001b[39m)\n\u001b[1;32m     17\u001b[0m log \u001b[38;5;241m=\u001b[39m getLogger(\u001b[38;5;18m__name__\u001b[39m)\n\u001b[0;32m---> 20\u001b[0m \u001b[38;5;28;01mclass\u001b[39;00m \u001b[38;5;21;01mClass\u001b[39;00m(with_metaclass(MetaJavaClass, JavaClass)):\n\u001b[1;32m     21\u001b[0m     __javaclass__ \u001b[38;5;241m=\u001b[39m \u001b[38;5;124m'\u001b[39m\u001b[38;5;124mjava/lang/Class\u001b[39m\u001b[38;5;124m'\u001b[39m\n\u001b[1;32m     23\u001b[0m     desiredAssertionStatus \u001b[38;5;241m=\u001b[39m JavaMethod(\u001b[38;5;124m'\u001b[39m\u001b[38;5;124m()Z\u001b[39m\u001b[38;5;124m'\u001b[39m)\n",
      "File \u001b[0;32m~/anaconda3/envs/webshop/lib/python3.8/site-packages/six.py:872\u001b[0m, in \u001b[0;36mwith_metaclass.<locals>.metaclass.__new__\u001b[0;34m(cls, name, this_bases, d)\u001b[0m\n\u001b[1;32m    870\u001b[0m \u001b[38;5;28;01melse\u001b[39;00m:\n\u001b[1;32m    871\u001b[0m     resolved_bases \u001b[38;5;241m=\u001b[39m bases\n\u001b[0;32m--> 872\u001b[0m \u001b[38;5;28;01mreturn\u001b[39;00m \u001b[43mmeta\u001b[49m\u001b[43m(\u001b[49m\u001b[43mname\u001b[49m\u001b[43m,\u001b[49m\u001b[43m \u001b[49m\u001b[43mresolved_bases\u001b[49m\u001b[43m,\u001b[49m\u001b[43m \u001b[49m\u001b[43md\u001b[49m\u001b[43m)\u001b[49m\n",
      "File \u001b[0;32mjnius/jnius_export_class.pxi:119\u001b[0m, in \u001b[0;36mjnius.MetaJavaClass.__new__\u001b[0;34m()\u001b[0m\n",
      "File \u001b[0;32mjnius/jnius_export_class.pxi:179\u001b[0m, in \u001b[0;36mjnius.MetaJavaClass.resolve_class\u001b[0;34m()\u001b[0m\n",
      "File \u001b[0;32mjnius/jnius_env.pxi:11\u001b[0m, in \u001b[0;36mjnius.get_jnienv\u001b[0;34m()\u001b[0m\n",
      "File \u001b[0;32mjnius/jnius_jvm_dlopen.pxi:102\u001b[0m, in \u001b[0;36mjnius.get_platform_jnienv\u001b[0;34m()\u001b[0m\n",
      "File \u001b[0;32mjnius/jnius_jvm_dlopen.pxi:55\u001b[0m, in \u001b[0;36mjnius.create_jnienv\u001b[0;34m()\u001b[0m\n",
      "File \u001b[0;32m~/anaconda3/envs/webshop/lib/python3.8/site-packages/jnius/env.py:177\u001b[0m, in \u001b[0;36mJavaLocation.get_jnius_lib_location\u001b[0;34m(self)\u001b[0m\n\u001b[1;32m    174\u001b[0m             log\u001b[38;5;241m.\u001b[39mdebug(\u001b[38;5;124m\"\u001b[39m\u001b[38;5;124mfound libjvm.so at \u001b[39m\u001b[38;5;132;01m%s\u001b[39;00m\u001b[38;5;124m\"\u001b[39m, full_lib_location)\n\u001b[1;32m    175\u001b[0m             \u001b[38;5;28;01mreturn\u001b[39;00m full_lib_location\n\u001b[0;32m--> 177\u001b[0m     \u001b[38;5;28;01mraise\u001b[39;00m \u001b[38;5;167;01mRuntimeError\u001b[39;00m(\n\u001b[1;32m    178\u001b[0m     \u001b[38;5;124;03m\"\"\"\u001b[39;00m\n\u001b[1;32m    179\u001b[0m \u001b[38;5;124;03m    Unable to find libjvm.so, (tried %s)\u001b[39;00m\n\u001b[1;32m    180\u001b[0m \u001b[38;5;124;03m    you can use the JVM_PATH env variable with the absolute path\u001b[39;00m\n\u001b[1;32m    181\u001b[0m \u001b[38;5;124;03m    to libjvm.so to override this lookup, if you know\u001b[39;00m\n\u001b[1;32m    182\u001b[0m \u001b[38;5;124;03m    where pyjnius should look for it.\u001b[39;00m\n\u001b[1;32m    183\u001b[0m \n\u001b[1;32m    184\u001b[0m \u001b[38;5;124;03m    e.g:\u001b[39;00m\n\u001b[1;32m    185\u001b[0m \u001b[38;5;124;03m        export JAVA_HOME=/usr/lib/jvm/java-8-oracle/\u001b[39;00m\n\u001b[1;32m    186\u001b[0m \u001b[38;5;124;03m        export JVM_PATH=/usr/lib/jvm/java-8-oracle/jre/lib/amd64/server/libjvm.so\u001b[39;00m\n\u001b[1;32m    187\u001b[0m \u001b[38;5;124;03m        # run your program\u001b[39;00m\n\u001b[1;32m    188\u001b[0m \u001b[38;5;124;03m    \"\"\"\u001b[39;00m\n\u001b[1;32m    189\u001b[0m     \u001b[38;5;241m%\u001b[39m [join(\u001b[38;5;28mself\u001b[39m\u001b[38;5;241m.\u001b[39mhome, loc) \u001b[38;5;28;01mfor\u001b[39;00m loc \u001b[38;5;129;01min\u001b[39;00m lib_locations]\n\u001b[1;32m    190\u001b[0m )\n",
      "\u001b[0;31mRuntimeError\u001b[0m: \n        Unable to find libjvm.so, (tried ['/home/yh/anaconda3/envs/webshop/bin/lib/server/libjvm.so', '/home/yh/anaconda3/envs/webshop/bin/jre/lib/amd64/default/libjvm.so', '/home/yh/anaconda3/envs/webshop/bin/jre/lib/amd64/server/libjvm.so'])\n        you can use the JVM_PATH env variable with the absolute path\n        to libjvm.so to override this lookup, if you know\n        where pyjnius should look for it.\n\n        e.g:\n            export JAVA_HOME=/usr/lib/jvm/java-8-oracle/\n            export JVM_PATH=/usr/lib/jvm/java-8-oracle/jre/lib/amd64/server/libjvm.so\n            # run your program\n        "
     ]
    }
   ],
   "source": [
    "import os\n",
    "\n",
    "# Change to a directory\n",
    "os.chdir('/home/yh/LLMAgent/webshop/baseline_models')\n",
    "\n",
    "\n",
    "from train_rl import parse_args as webenv_args\n",
    "import imp\n",
    "from env import WebEnv \n",
    "\n",
    "\n",
    "args = webenv_args()[0]\n",
    "env = env.WebEnv(args, split='test')\n",
    "print('env loaded')"
   ]
  },
  {
   "cell_type": "code",
   "execution_count": null,
   "id": "c1f8eeb2",
   "metadata": {},
   "outputs": [],
   "source": [
    "import sys\n",
    "print(sys.version)"
   ]
  },
  {
   "cell_type": "code",
   "execution_count": null,
   "id": "b3102a5c",
   "metadata": {},
   "outputs": [],
   "source": []
  }
 ],
 "metadata": {
  "kernelspec": {
   "display_name": "Python 3.8 webshop",
   "language": "python",
   "name": "webshop_python3_8"
  },
  "language_info": {
   "codemirror_mode": {
    "name": "ipython",
    "version": 3
   },
   "file_extension": ".py",
   "mimetype": "text/x-python",
   "name": "python",
   "nbconvert_exporter": "python",
   "pygments_lexer": "ipython3",
   "version": "3.8.13"
  }
 },
 "nbformat": 4,
 "nbformat_minor": 5
}
