{
 "cells": [
  {
   "cell_type": "code",
   "execution_count": 1,
   "id": "ee041858-ebfd-42ac-8fcc-8a55412fb7e5",
   "metadata": {
    "tags": []
   },
   "outputs": [],
   "source": [
    "!pip install langchain -q"
   ]
  },
  {
   "cell_type": "code",
   "execution_count": 6,
   "id": "703a79c8",
   "metadata": {
    "tags": []
   },
   "outputs": [],
   "source": [
    "import re, json, os, langchain\n",
    "\n",
    "class Message:\n",
    "    def __init__(self, type, content, additional_kwargs={}, example=False):\n",
    "        self.type = type\n",
    "        self.content = content\n",
    "        self.additional_kwargs = additional_kwargs\n",
    "        self.example = example\n",
    "\n",
    "def parse_messages(raw_data):\n",
    "    messages = []\n",
    "    # Pattern to match message strings\n",
    "    pattern = re.compile(r\"(\\w+Message)\\(content=['\\\"](.*?)['\\\"], additional_kwargs=({.*?})(, example=(\\w+))?\\)\", re.DOTALL)\n",
    "    for match in pattern.findall(raw_data):\n",
    "        message_type, content, additional_kwargs, _, example = match\n",
    "        # Convert strings of additional_kwargs and example to their actual types\n",
    "        additional_kwargs = eval(additional_kwargs)\n",
    "        example = eval(example) if example else False\n",
    "        message = Message(message_type, content, additional_kwargs, example)\n",
    "        messages.append(message)\n",
    "    return messages\n",
    "\n",
    "# Test the script\n",
    "base_dir = \"./full_autogpt_log/\"\n",
    "log_files = [\n",
    "    \"alfworld_autogpt_result_log_gpt35_il_r2.txt\",\n",
    "    \"alfworld_autogpt_result_log_claude_il_2.txt\",\n",
    "    \"alfworld_autogpt_result_log_gpt4_il.txt\",\n",
    "]\n",
    "\n",
    "# Print parsed messages\n",
    "#for message in messages:\n",
    "#    print(f\"Type: {message.type}\\nContent: {message.content}\\nAdditional Kwargs: {message.additional_kwargs}\\nExample: {message.example}\\n---\")\n"
   ]
  },
  {
   "cell_type": "code",
   "execution_count": 7,
   "id": "bc16a574",
   "metadata": {
    "tags": []
   },
   "outputs": [],
   "source": [
    "def extract_command(text):\n",
    "# Define the pattern\n",
    "    pattern = r\"\\['(.*?)'\\]\"\n",
    "\n",
    "    # Use findall to find all matches\n",
    "    matches = re.findall(pattern, text)\n",
    "\n",
    "    # Print matches\n",
    "    res = []\n",
    "    for match in matches:\n",
    "        parameter = match\n",
    "        # command = command.lower()\n",
    "        command = 'alfworld_action'\n",
    "        parameter = parameter.lower()\n",
    "        #print(f\"Command: {command}\\nParameter: {parameter}\\n---\")\n",
    "        res.append(f\"{command}:{parameter}\")\n",
    "    return res\n"
   ]
  },
  {
   "cell_type": "code",
   "execution_count": 10,
   "id": "6c4e0c40-d375-43e5-8134-12c08e73e4b9",
   "metadata": {
    "tags": []
   },
   "outputs": [],
   "source": [
    "from output_parser import preprocess_json_input\n",
    "def check_agree_rate(messages, f_name):\n",
    "    disagree, agree = 0, 0\n",
    "    for i, m in enumerate(messages):\n",
    "        if m.type == \"HumanMessage\":\n",
    "            res = extract_command(m.content)\n",
    "            if res:\n",
    "                try:\n",
    "                    res_set = set(res)\n",
    "                    assert messages[i+1].type == \"AIMessage\"\n",
    "                    s = bytes(messages[i+1].content, 'utf-8').decode('unicode_escape')\n",
    "                    #print(s)\n",
    "                    ai_r = json.loads(preprocess_json_input(s), strict=False)\n",
    "                    if ai_r[\"command\"][\"name\"] in (\"alfworld_action\") and ai_r[\"command\"][\"args\"].get(\"tool_input\"):                    \n",
    "                    # if ai_r[\"command\"][\"name\"] in (\"search\", \"click\"):\n",
    "                        ai_r_txt = ai_r[\"command\"][\"name\"].lower() + \":\" + \\\n",
    "                                   ai_r[\"command\"][\"args\"][\"tool_input\"].lower()\n",
    "                        if ai_r_txt in res_set:\n",
    "                            agree +=1 \n",
    "                        else:\n",
    "                            disagree += 1\n",
    "                except json.JSONDecodeError:\n",
    "                    pass\n",
    "                    # print(s)\n",
    "    total = disagree + agree +0.0\n",
    "    print(f_name, agree/total, disagree/total)"
   ]
  },
  {
   "cell_type": "code",
   "execution_count": 11,
   "id": "ff2adf19",
   "metadata": {
    "tags": []
   },
   "outputs": [
    {
     "name": "stdout",
     "output_type": "stream",
     "text": [
      "alfworld_autogpt_result_log_gpt35_il_r2.txt 0.1857397504456328 0.8142602495543672\n",
      "alfworld_autogpt_result_log_claude_il_2.txt 0.23126177024482109 0.7687382297551789\n",
      "alfworld_autogpt_result_log_gpt4_il.txt 0.145679012345679 0.854320987654321\n"
     ]
    }
   ],
   "source": [
    "for i in range(0, len(log_files)):\n",
    "    f = log_files[i]\n",
    "    log_file = base_dir + f\n",
    "    with open(log_file, \"r\") as file:\n",
    "        log_text = file.read()\n",
    "\n",
    "    messages = parse_messages(log_text)\n",
    "    check_agree_rate(messages, f)\n"
   ]
  },
  {
   "cell_type": "code",
   "execution_count": 14,
   "id": "0d9e07f4",
   "metadata": {
    "tags": []
   },
   "outputs": [
    {
     "name": "stdout",
     "output_type": "stream",
     "text": [
      "['alfworld_autogpt_result_log_gpt35_il_r2.txt 0.1857397504456328 0.8142602495543672\\n', 'alfworld_autogpt_result_log_claude_il_2.txt 0.23126177024482109 0.7687382297551789\\n', 'alfworld_autogpt_result_log_gpt4_il.txt 0.145679012345679 0.854320987654321\\n']\n",
      "[[0.1857397504456328, 0.8142602495543672], [0.23126177024482109, 0.7687382297551789], [0.145679012345679, 0.854320987654321]]\n"
     ]
    },
    {
     "data": {
      "image/png": "[encoded data removed]",
      "text/plain": [
       "<Figure size 640x480 with 1 Axes>"
      ]
     },
     "metadata": {},
     "output_type": "display_data"
    }
   ],
   "source": [
    "import matplotlib.pyplot as plt\n",
    "import numpy as np\n",
    "import io\n",
    "\n",
    "# Assuming the data is in a string\n",
    "data_string = \"\"\"alfworld_autogpt_result_log_gpt35_il_r2.txt 0.1857397504456328 0.8142602495543672\n",
    "alfworld_autogpt_result_log_claude_il_2.txt 0.23126177024482109 0.7687382297551789\n",
    "alfworld_autogpt_result_log_gpt4_il.txt 0.145679012345679 0.854320987654321\n",
    "\"\"\"\n",
    "\n",
    "# Convert the string to a file-like object\n",
    "f = io.StringIO(data_string)\n",
    "\n",
    "# Read the lines from the file-like object\n",
    "lines = f.readlines()\n",
    "print(lines)\n",
    "\n",
    "# Split the lines into labels and data\n",
    "labels = [\"Claude + IL\", \"GPT3.5 + IL\", \"GPT4 + IL\"]\n",
    "data = [list(map(float, line.split()[1:])) for line in lines]\n",
    "print(data)\n",
    "# Convert data to numpy array for easier manipulation\n",
    "data = np.array(data)\n",
    "\n",
    "# Create an index for each group of bars\n",
    "bar_index = np.arange(len(labels))\n",
    "\n",
    "# Define bar width\n",
    "bar_width = 0.35\n",
    "\n",
    "# Create the bars\n",
    "fig, ax = plt.subplots()\n",
    "bar1 = ax.bar(bar_index, data[:, 0], bar_width, label='LLM Considers Additional Opinions', color='skyblue')\n",
    "bar2 = ax.bar(bar_index, data[:, 1], bar_width, bottom=data[:, 0], label='LLM Disagrees', color='salmon')\n",
    "\n",
    "# Add some text for labels, title and custom x-axis tick labels, etc.\n",
    "ax.set_xlabel('LLM')\n",
    "ax.set_ylabel('Ratio')\n",
    "ax.set_title('Ratios whether LLMs consider additional opinions')\n",
    "ax.set_xticks(bar_index)\n",
    "ax.set_xticklabels(labels)\n",
    "ax.legend()\n",
    "\n",
    "# Rotate the x-axis labels for better visibility\n",
    "plt.xticks(rotation=45)\n",
    "\n",
    "# Show the plot\n",
    "plt.show()\n"
   ]
  }
 ],
 "metadata": {
  "kernelspec": {
   "display_name": "conda_pytorch_p39",
   "language": "python",
   "name": "conda_pytorch_p39"
  },
  "language_info": {
   "codemirror_mode": {
    "name": "ipython",
    "version": 3
   },
   "file_extension": ".py",
   "mimetype": "text/x-python",
   "name": "python",
   "nbconvert_exporter": "python",
   "pygments_lexer": "ipython3",
   "version": "3.9.15"
  }
 },
 "nbformat": 4,
 "nbformat_minor": 5
}
